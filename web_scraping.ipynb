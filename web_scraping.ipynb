{
 "cells": [
  {
   "cell_type": "code",
   "execution_count": null,
   "id": "7831317d-cbd7-465d-be0c-ca44d606cd75",
   "metadata": {},
   "outputs": [],
   "source": [
    "import pandas as pd\n",
    "import requests\n",
    "from bs4 import BeautifulSoup"
   ]
  },
  {
   "cell_type": "code",
   "execution_count": null,
   "id": "a2c65320-f8e0-439e-b009-d9fe40f5f3ab",
   "metadata": {
    "scrolled": true
   },
   "outputs": [],
   "source": [
    "headers = {\n",
    "    \"User-Agent\": \"Mozilla/5.0 (Windows NT 10.0; Win64; x64) \"\n",
    "                  \"AppleWebKit/537.36 (KHTML, like Gecko) \"\n",
    "                  \"Chrome/128.0.0.0 Safari/537.36\",\n",
    "    \"Accept-Language\": \"en-US,en;q=0.9\",\n",
    "    \"Accept\": \"text/html,application/xhtml+xml,application/xml;q=0.9,*/*;q=0.8\",\n",
    "    \"Referer\": \"https://www.google.com/\",\n",
    "}\n",
    "webpage=requests.get('https://www.ambitionbox.com/list-of-companies?page=1',headers=headers).text"
   ]
  },
  {
   "cell_type": "code",
   "execution_count": null,
   "id": "6a86acc0-7f66-45cf-9b5d-d9dd365b2d91",
   "metadata": {},
   "outputs": [],
   "source": [
    "webpage"
   ]
  },
  {
   "cell_type": "code",
   "execution_count": null,
   "id": "24d4c05a-e9b8-404f-a832-8f16edb2b006",
   "metadata": {},
   "outputs": [],
   "source": [
    "soup=BeautifulSoup(webpage, 'lxml')"
   ]
  },
  {
   "cell_type": "code",
   "execution_count": null,
   "id": "b8b23f4d-d0bc-4ea3-a30f-10b07b0a48ee",
   "metadata": {},
   "outputs": [],
   "source": [
    "soup"
   ]
  },
  {
   "cell_type": "code",
   "execution_count": null,
   "id": "1f352d02-05ac-46f6-88d7-177c7ce2253e",
   "metadata": {},
   "outputs": [],
   "source": [
    "print(soup.prettify())    #makes HTML readable"
   ]
  },
  {
   "cell_type": "code",
   "execution_count": null,
   "id": "0c2d96e5-9376-4a27-96ac-f09bbafa8b97",
   "metadata": {},
   "outputs": [],
   "source": [
    "for i in soup.find_all('h2'):     \n",
    "    print (i.text.strip())"
   ]
  },
  {
   "cell_type": "code",
   "execution_count": null,
   "id": "b116dad2-a537-493a-aa10-81d988ec4670",
   "metadata": {},
   "outputs": [],
   "source": [
    "#class is to specify konsa div/p/a\n",
    "\n",
    "#find() : when only one exists\n",
    "#Returns only the first matching element.\n",
    "#Output: a single tag object\n",
    "\n",
    "#find_all() : when many exists with same.....\n",
    "#Returns all matching elements.\n",
    "#Output: a list of tag objects."
   ]
  },
  {
   "cell_type": "code",
   "execution_count": null,
   "id": "59ae562f-833c-42f9-818d-75a0e9fbff0c",
   "metadata": {},
   "outputs": [],
   "source": [
    "company=soup.find_all('div',class_=\"companyCardWrapper__primaryInformation\")  "
   ]
  },
  {
   "cell_type": "code",
   "execution_count": null,
   "id": "e2fc40c0-7897-4dfd-bbb3-38fa97a5fcd5",
   "metadata": {},
   "outputs": [],
   "source": [
    "len(company)"
   ]
  },
  {
   "cell_type": "code",
   "execution_count": null,
   "id": "bc683c0a-9a90-416e-977c-ddac4ad60eed",
   "metadata": {},
   "outputs": [],
   "source": [
    "name=[]\n",
    "rating=[]\n",
    "review=[]\n",
    "\n",
    "for i in company:\n",
    "    name.append(i.find('h2').text.strip())\n",
    "    rating.append(i.find('div',style=\"height:auto;padding-bottom:1px;\").text.strip())\n",
    "    review.append(i.find('span',class_=\"companyCardWrapper__companyRatingCount\").text.strip())\n",
    "\n",
    "    #company[1].find_all('span',class_=\"companyCardWrapper__ActionCount\")  not working??!!\n",
    "    "
   ]
  },
  {
   "cell_type": "code",
   "execution_count": null,
   "id": "dcd37513-8dda-4c5c-893f-240110fa5a2b",
   "metadata": {},
   "outputs": [],
   "source": [
    "#company[0].find('span', class_=\"companyCardWrapper__interLinking\").text.strip()"
   ]
  },
  {
   "cell_type": "code",
   "execution_count": null,
   "id": "04a93fa1-095b-435c-8e17-0c13cc5b6638",
   "metadata": {},
   "outputs": [],
   "source": [
    "name"
   ]
  },
  {
   "cell_type": "code",
   "execution_count": null,
   "id": "e7ac264c-c764-4bce-b312-ec8b7b5aa9f6",
   "metadata": {},
   "outputs": [],
   "source": [
    "rating"
   ]
  },
  {
   "cell_type": "code",
   "execution_count": null,
   "id": "90f506c2-9a9b-4452-aa26-b062535a108a",
   "metadata": {},
   "outputs": [],
   "source": [
    "review"
   ]
  },
  {
   "cell_type": "code",
   "execution_count": null,
   "id": "a35be834-1b42-4a24-9bff-81cd29642332",
   "metadata": {},
   "outputs": [],
   "source": [
    "#creating dataframe\n",
    "d={'name':name, 'rating':rating, 'review':review}\n",
    "df=pd.DataFrame(d)"
   ]
  },
  {
   "cell_type": "code",
   "execution_count": null,
   "id": "3a9ffe18-ecab-491c-b6ad-db59ef1e5040",
   "metadata": {},
   "outputs": [],
   "source": [
    "df"
   ]
  },
  {
   "cell_type": "markdown",
   "id": "1d6a9d03-18a0-4bbe-836e-bd002dddede1",
   "metadata": {},
   "source": [
    "now doing for 10 pages\n"
   ]
  },
  {
   "cell_type": "code",
   "execution_count": 98,
   "id": "bdd4dee9-ca7b-4426-b144-830df9e30996",
   "metadata": {},
   "outputs": [],
   "source": [
    "final=pd.DataFrame()\n",
    "for j in range (1,11):\n",
    "    url='https://www.ambitionbox.com/list-of-companies?page={}'.format(j)\n",
    "    headers = {\n",
    "    \"User-Agent\": \"Mozilla/5.0 (Windows NT 10.0; Win64; x64) \"\n",
    "                  \"AppleWebKit/537.36 (KHTML, like Gecko) \"\n",
    "                  \"Chrome/128.0.0.0 Safari/537.36\",\n",
    "    \"Accept-Language\": \"en-US,en;q=0.9\",\n",
    "    \"Accept\": \"text/html,application/xhtml+xml,application/xml;q=0.9,*/*;q=0.8\",\n",
    "    \"Referer\": \"https://www.google.com/\",\n",
    "    }\n",
    "    webpage=requests.get(url,headers=headers).text\n",
    "    \n",
    "    soup=BeautifulSoup(webpage, 'lxml')\n",
    "    \n",
    "    company=soup.find_all('div',class_=\"companyCardWrapper__primaryInformation\")  \n",
    "    \n",
    "    name=[]\n",
    "    rating=[]\n",
    "    review=[]\n",
    "    \n",
    "    for i in company:\n",
    "        name.append(i.find('h2').text.strip())\n",
    "        rating.append(i.find('div',style=\"height:auto;padding-bottom:1px;\").text.strip())\n",
    "        review.append(i.find('span',class_=\"companyCardWrapper__companyRatingCount\").text.strip())\n",
    "        \n",
    "\n",
    "    d={'name':name, 'rating':rating, 'review':review}\n",
    "    df=pd.DataFrame(d)\n",
    "\n",
    "    final = pd.concat([final, df], ignore_index=True)\n",
    "\n",
    "\n",
    "\n",
    "\n",
    "    \n",
    "    "
   ]
  },
  {
   "cell_type": "code",
   "execution_count": 99,
   "id": "a6650e0c-60df-473e-bc67-7de241018f62",
   "metadata": {},
   "outputs": [
    {
     "data": {
      "text/html": [
       "<div>\n",
       "<style scoped>\n",
       "    .dataframe tbody tr th:only-of-type {\n",
       "        vertical-align: middle;\n",
       "    }\n",
       "\n",
       "    .dataframe tbody tr th {\n",
       "        vertical-align: top;\n",
       "    }\n",
       "\n",
       "    .dataframe thead th {\n",
       "        text-align: right;\n",
       "    }\n",
       "</style>\n",
       "<table border=\"1\" class=\"dataframe\">\n",
       "  <thead>\n",
       "    <tr style=\"text-align: right;\">\n",
       "      <th></th>\n",
       "      <th>name</th>\n",
       "      <th>rating</th>\n",
       "      <th>review</th>\n",
       "    </tr>\n",
       "  </thead>\n",
       "  <tbody>\n",
       "    <tr>\n",
       "      <th>0</th>\n",
       "      <td>TCS</td>\n",
       "      <td>3.4</td>\n",
       "      <td>(1L)</td>\n",
       "    </tr>\n",
       "    <tr>\n",
       "      <th>1</th>\n",
       "      <td>Accenture</td>\n",
       "      <td>3.7</td>\n",
       "      <td>(66.8k)</td>\n",
       "    </tr>\n",
       "    <tr>\n",
       "      <th>2</th>\n",
       "      <td>Wipro</td>\n",
       "      <td>3.7</td>\n",
       "      <td>(59.9k)</td>\n",
       "    </tr>\n",
       "    <tr>\n",
       "      <th>3</th>\n",
       "      <td>Cognizant</td>\n",
       "      <td>3.7</td>\n",
       "      <td>(56.9k)</td>\n",
       "    </tr>\n",
       "    <tr>\n",
       "      <th>4</th>\n",
       "      <td>Capgemini</td>\n",
       "      <td>3.7</td>\n",
       "      <td>(48.8k)</td>\n",
       "    </tr>\n",
       "    <tr>\n",
       "      <th>...</th>\n",
       "      <td>...</td>\n",
       "      <td>...</td>\n",
       "      <td>...</td>\n",
       "    </tr>\n",
       "    <tr>\n",
       "      <th>195</th>\n",
       "      <td>Subros</td>\n",
       "      <td>3.8</td>\n",
       "      <td>(3.6k)</td>\n",
       "    </tr>\n",
       "    <tr>\n",
       "      <th>196</th>\n",
       "      <td>Viatris</td>\n",
       "      <td>4.1</td>\n",
       "      <td>(3.6k)</td>\n",
       "    </tr>\n",
       "    <tr>\n",
       "      <th>197</th>\n",
       "      <td>Pidilite Industries</td>\n",
       "      <td>4.2</td>\n",
       "      <td>(3.5k)</td>\n",
       "    </tr>\n",
       "    <tr>\n",
       "      <th>198</th>\n",
       "      <td>PVR Inox</td>\n",
       "      <td>3.9</td>\n",
       "      <td>(3.5k)</td>\n",
       "    </tr>\n",
       "    <tr>\n",
       "      <th>199</th>\n",
       "      <td>Alembic Pharmaceuticals</td>\n",
       "      <td>3.9</td>\n",
       "      <td>(3.5k)</td>\n",
       "    </tr>\n",
       "  </tbody>\n",
       "</table>\n",
       "<p>200 rows × 3 columns</p>\n",
       "</div>"
      ],
      "text/plain": [
       "                        name rating   review\n",
       "0                        TCS    3.4     (1L)\n",
       "1                  Accenture    3.7  (66.8k)\n",
       "2                      Wipro    3.7  (59.9k)\n",
       "3                  Cognizant    3.7  (56.9k)\n",
       "4                  Capgemini    3.7  (48.8k)\n",
       "..                       ...    ...      ...\n",
       "195                   Subros    3.8   (3.6k)\n",
       "196                  Viatris    4.1   (3.6k)\n",
       "197      Pidilite Industries    4.2   (3.5k)\n",
       "198                 PVR Inox    3.9   (3.5k)\n",
       "199  Alembic Pharmaceuticals    3.9   (3.5k)\n",
       "\n",
       "[200 rows x 3 columns]"
      ]
     },
     "execution_count": 99,
     "metadata": {},
     "output_type": "execute_result"
    }
   ],
   "source": [
    "final"
   ]
  },
  {
   "cell_type": "code",
   "execution_count": null,
   "id": "4c22c058-9163-4aa0-bed4-75c757b8b5ee",
   "metadata": {},
   "outputs": [],
   "source": []
  }
 ],
 "metadata": {
  "kernelspec": {
   "display_name": "Python [conda env:base] *",
   "language": "python",
   "name": "conda-base-py"
  },
  "language_info": {
   "codemirror_mode": {
    "name": "ipython",
    "version": 3
   },
   "file_extension": ".py",
   "mimetype": "text/x-python",
   "name": "python",
   "nbconvert_exporter": "python",
   "pygments_lexer": "ipython3",
   "version": "3.13.5"
  }
 },
 "nbformat": 4,
 "nbformat_minor": 5
}
